{
 "cells": [
  {
   "attachments": {},
   "cell_type": "markdown",
   "metadata": {},
   "source": [
    "# Injecting a Watermark into a Video"
   ]
  },
  {
   "cell_type": "code",
   "execution_count": 4,
   "metadata": {},
   "outputs": [
    {
     "name": "stdout",
     "output_type": "stream",
     "text": [
      "Collecting opencv-python\n",
      "  Downloading opencv_python-4.7.0.68-cp37-abi3-win_amd64.whl (38.2 MB)\n",
      "     ---------------------------------------- 38.2/38.2 MB 8.7 MB/s eta 0:00:00\n",
      "Requirement already satisfied: numpy>=1.17.0 in c:\\users\\adgru\\appdata\\local\\packages\\pythonsoftwarefoundation.python.3.10_qbz5n2kfra8p0\\localcache\\local-packages\\python310\\site-packages (from opencv-python) (1.23.4)\n",
      "Installing collected packages: opencv-python\n",
      "Successfully installed opencv-python-4.7.0.68\n"
     ]
    }
   ],
   "source": [
    "!pip3 install opencv-python"
   ]
  },
  {
   "attachments": {},
   "cell_type": "markdown",
   "metadata": {},
   "source": [
    "### Importing Pillow for image processing and displaying/resizing a watermark"
   ]
  },
  {
   "cell_type": "code",
   "execution_count": null,
   "metadata": {},
   "outputs": [],
   "source": []
  },
  {
   "cell_type": "code",
   "execution_count": 3,
   "metadata": {},
   "outputs": [
    {
     "data": {
      "image/png": "[encoded data removed]",
      "text/plain": [
       "<PIL.Image.Image image mode=LA size=100x100>"
      ]
     },
     "execution_count": 3,
     "metadata": {},
     "output_type": "execute_result"
    }
   ],
   "source": [
    "from PIL import Image, ImageDraw, ImageFont\n",
    "\n",
    "watermark = Image.open('watermarksample.png')\n",
    "watermark = watermark.resize((100, 100))\n",
    "# display watermark \n",
    "watermark"
   ]
  },
  {
   "cell_type": "code",
   "execution_count": 7,
   "metadata": {},
   "outputs": [
    {
     "ename": "ValueError",
     "evalue": "The truth value of an array with more than one element is ambiguous. Use a.any() or a.all()",
     "output_type": "error",
     "traceback": [
      "\u001b[1;31m---------------------------------------------------------------------------\u001b[0m",
      "\u001b[1;31mValueError\u001b[0m                                Traceback (most recent call last)",
      "Cell \u001b[1;32mIn [7], line 33\u001b[0m\n\u001b[0;32m     29\u001b[0m     video_writer\u001b[39m.\u001b[39mrelease()\n\u001b[0;32m     30\u001b[0m     cv2\u001b[39m.\u001b[39mdestroyAllWindows()\n\u001b[1;32m---> 33\u001b[0m InjectWatermarkInVideo((\u001b[39m0\u001b[39;49m, \u001b[39m0\u001b[39;49m), \u001b[39m'\u001b[39;49m\u001b[39mvideo.mp4\u001b[39;49m\u001b[39m'\u001b[39;49m, \u001b[39m'\u001b[39;49m\u001b[39mwatermarksample.png\u001b[39;49m\u001b[39m'\u001b[39;49m, \u001b[39m'\u001b[39;49m\u001b[39moutput.mp4\u001b[39;49m\u001b[39m'\u001b[39;49m)\n",
      "Cell \u001b[1;32mIn [7], line 21\u001b[0m, in \u001b[0;36mInjectWatermarkInVideo\u001b[1;34m(position, video_path, watermark_path, output_path)\u001b[0m\n\u001b[0;32m     19\u001b[0m frame \u001b[39m=\u001b[39m Image\u001b[39m.\u001b[39mfromarray(frame)\n\u001b[0;32m     20\u001b[0m box \u001b[39m=\u001b[39m (position[\u001b[39m0\u001b[39m], position[\u001b[39m1\u001b[39m], position[\u001b[39m0\u001b[39m] \u001b[39m+\u001b[39m watermark\u001b[39m.\u001b[39mshape[\u001b[39m1\u001b[39m], position[\u001b[39m1\u001b[39m] \u001b[39m+\u001b[39m watermark\u001b[39m.\u001b[39mshape[\u001b[39m0\u001b[39m])\n\u001b[1;32m---> 21\u001b[0m frame\u001b[39m.\u001b[39;49mpaste(watermark, box, mask\u001b[39m=\u001b[39;49mwatermark)\n\u001b[0;32m     22\u001b[0m frame \u001b[39m=\u001b[39m np\u001b[39m.\u001b[39marray(frame)\n\u001b[0;32m     23\u001b[0m frame \u001b[39m=\u001b[39m cv2\u001b[39m.\u001b[39mcvtColor(frame, cv2\u001b[39m.\u001b[39mCOLOR_RGBA2BGRA)\n",
      "File \u001b[1;32m~\\AppData\\Local\\Packages\\PythonSoftwareFoundation.Python.3.10_qbz5n2kfra8p0\\LocalCache\\local-packages\\Python310\\site-packages\\PIL\\Image.py:1662\u001b[0m, in \u001b[0;36mImage.paste\u001b[1;34m(self, im, box, mask)\u001b[0m\n\u001b[0;32m   1658\u001b[0m     im \u001b[39m=\u001b[39m im\u001b[39m.\u001b[39mim\n\u001b[0;32m   1660\u001b[0m \u001b[39mself\u001b[39m\u001b[39m.\u001b[39m_ensure_mutable()\n\u001b[1;32m-> 1662\u001b[0m \u001b[39mif\u001b[39;00m mask:\n\u001b[0;32m   1663\u001b[0m     mask\u001b[39m.\u001b[39mload()\n\u001b[0;32m   1664\u001b[0m     \u001b[39mself\u001b[39m\u001b[39m.\u001b[39mim\u001b[39m.\u001b[39mpaste(im, box, mask\u001b[39m.\u001b[39mim)\n",
      "\u001b[1;31mValueError\u001b[0m: The truth value of an array with more than one element is ambiguous. Use a.any() or a.all()"
     ]
    }
   ],
   "source": [
    "import cv2\n",
    "import numpy as np\n",
    "\n",
    "def InjectWatermarkInVideo(position, video_path, watermark_path, output_path):\n",
    "    watermark = cv2.imread(watermark_path, cv2.IMREAD_UNCHANGED)\n",
    "    watermark = cv2.resize(watermark, (100, 100))\n",
    "    watermark = cv2.cvtColor(watermark, cv2.COLOR_BGR2BGRA)\n",
    "    video = cv2.VideoCapture(video_path)\n",
    "    fourcc = cv2.VideoWriter_fourcc(*'mp4v')\n",
    "    fps = video.get(cv2.CAP_PROP_FPS)\n",
    "    width = int(video.get(cv2.CAP_PROP_FRAME_WIDTH))\n",
    "    height = int(video.get(cv2.CAP_PROP_FRAME_HEIGHT))\n",
    "    video_writer = cv2.VideoWriter(output_path, fourcc, fps, (width, height))\n",
    "    while True:\n",
    "        ret, frame = video.read()\n",
    "        if ret:\n",
    "            frame = cv2.cvtColor(frame, cv2.COLOR_BGR2BGRA)\n",
    "            frame = cv2.cvtColor(frame, cv2.COLOR_BGRA2RGBA)\n",
    "            frame = Image.fromarray(frame)\n",
    "            box = (position[0], position[1], position[0] + watermark.shape[1], position[1] + watermark.shape[0])\n",
    "            frame.paste(watermark, box, mask=watermark)\n",
    "            frame = np.array(frame)\n",
    "            frame = cv2.cvtColor(frame, cv2.COLOR_RGBA2BGRA)\n",
    "            frame = cv2.cvtColor(frame, cv2.COLOR_BGRA2BGR)\n",
    "            video_writer.write(frame)\n",
    "        else:\n",
    "            break\n",
    "    video.release()\n",
    "    video_writer.release()\n",
    "    cv2.destroyAllWindows()\n",
    "\n",
    "\n",
    "InjectWatermarkInVideo((0, 0), 'video.mp4', 'watermarksample.png', 'output.mp4')"
   ]
  }
 ],
 "metadata": {
  "kernelspec": {
   "display_name": "Python 3",
   "language": "python",
   "name": "python3"
  },
  "language_info": {
   "codemirror_mode": {
    "name": "ipython",
    "version": 3
   },
   "file_extension": ".py",
   "mimetype": "text/x-python",
   "name": "python",
   "nbconvert_exporter": "python",
   "pygments_lexer": "ipython3",
   "version": "3.10.9 (tags/v3.10.9:1dd9be6, Dec  6 2022, 20:01:21) [MSC v.1934 64 bit (AMD64)]"
  },
  "orig_nbformat": 4,
  "vscode": {
   "interpreter": {
    "hash": "9b4576989fbb10b6324e4e2175098155b527d854b2fe5ae564203603ba498569"
   }
  }
 },
 "nbformat": 4,
 "nbformat_minor": 2
}
